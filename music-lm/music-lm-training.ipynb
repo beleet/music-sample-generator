{
 "cells": [
  {
   "cell_type": "markdown",
   "metadata": {},
   "source": [
    "# Training MusicLM model\n",
    "### Robert Chen, Ahmadsho Akdodshoev, Philip Timofeev"
   ]
  },
  {
   "cell_type": "markdown",
   "metadata": {},
   "source": [
    "## 0. Imports"
   ]
  },
  {
   "cell_type": "code",
   "execution_count": null,
   "metadata": {},
   "outputs": [],
   "source": [
    "import torch\n",
    "from torch.utils.data import Dataset, DataLoader\n",
    "import torchaudio\n",
    "from musiclm_pytorch import (\n",
    "    MuLaN, MuLaNEmbedQuantizer, MuLaNTrainer, \n",
    "    AudioSpectrogramTransformer, TextTransformer,\n",
    "    MusicLM\n",
    ")\n",
    "from audiolm_pytorch import (\n",
    "    SemanticTransformer, SemanticTransformerTrainer, \n",
    "    CoarseTransformer, CoarseTransformerTrainer, \n",
    "    FineTransformer, FineTransformerTrainer, \n",
    "    AudioLM, HubertWithKmeans\n",
    ")"
   ]
  },
  {
   "cell_type": "markdown",
   "metadata": {},
   "source": [
    "## 1. Creating dataloaders"
   ]
  },
  {
   "cell_type": "code",
   "execution_count": null,
   "metadata": {},
   "outputs": [],
   "source": [
    "class MusicLMDataset(Dataset):\n",
    "    def __init__(self, path: str) -> None:\n",
    "        super().__init__()\n",
    "    def __getitem__(self, index) -> Any:\n",
    "        ...\n",
    "\n",
    "\n",
    "\n",
    "train_loader, val_loader : DataLoader(), DataLoader()\n",
    "test_loader = DataLoader()"
   ]
  },
  {
   "cell_type": "markdown",
   "metadata": {},
   "source": [
    "## 2. Training MuLaN"
   ]
  },
  {
   "cell_type": "code",
   "execution_count": 1,
   "metadata": {},
   "outputs": [
    {
     "ename": "NameError",
     "evalue": "name 'dim' is not defined",
     "output_type": "error",
     "traceback": [
      "\u001b[0;31m---------------------------------------------------------------------------\u001b[0m",
      "\u001b[0;31mNameError\u001b[0m                                 Traceback (most recent call last)",
      "Cell \u001b[0;32mIn[1], line 12\u001b[0m\n\u001b[1;32m      1\u001b[0m AUDIO_KWARGS \u001b[39m=\u001b[39m {\n\u001b[1;32m      2\u001b[0m     \u001b[39m'\u001b[39m\u001b[39mdim\u001b[39m\u001b[39m'\u001b[39m: \u001b[39m512\u001b[39m,\n\u001b[1;32m      3\u001b[0m     \u001b[39m'\u001b[39m\u001b[39mdepth\u001b[39m\u001b[39m'\u001b[39m: \u001b[39m6\u001b[39m,\n\u001b[0;32m   (...)\u001b[0m\n\u001b[1;32m      8\u001b[0m     \u001b[39m'\u001b[39m\u001b[39mspec_aug_stretch_factor\u001b[39m\u001b[39m'\u001b[39m: \u001b[39m0.8\u001b[39m\n\u001b[1;32m      9\u001b[0m }\n\u001b[1;32m     11\u001b[0m TEXT_KWARGS \u001b[39m=\u001b[39m {\n\u001b[0;32m---> 12\u001b[0m     dim: \u001b[39m512\u001b[39m,\n\u001b[1;32m     13\u001b[0m     depth: \u001b[39m6\u001b[39m,\n\u001b[1;32m     14\u001b[0m     heads: \u001b[39m8\u001b[39m,\n\u001b[1;32m     15\u001b[0m     \u001b[39m'\u001b[39m\u001b[39mdim_head\u001b[39m\u001b[39m'\u001b[39m: \u001b[39m64\u001b[39m\n\u001b[1;32m     16\u001b[0m }\n\u001b[1;32m     18\u001b[0m audio_transformer \u001b[39m=\u001b[39m AudioSpectrogramTransformer(\u001b[39m*\u001b[39m\u001b[39m*\u001b[39mAUDIO_KWARGS)\n\u001b[1;32m     20\u001b[0m text_transformer \u001b[39m=\u001b[39m TextTransformer(\u001b[39m*\u001b[39m\u001b[39m*\u001b[39mTEXT_KWARGS)\n",
      "\u001b[0;31mNameError\u001b[0m: name 'dim' is not defined"
     ]
    }
   ],
   "source": [
    "AUDIO_KWARGS = {\n",
    "    'dim': 512,\n",
    "    'depth': 6,\n",
    "    'heads': 8,\n",
    "    'dim_head': 64,\n",
    "    'spec_n_fft': 128,\n",
    "    'spec_win_length': 24,\n",
    "    'spec_aug_stretch_factor': 0.8\n",
    "}\n",
    "\n",
    "TEXT_KWARGS = {\n",
    "    'dim': 512,\n",
    "    'depth': 6,\n",
    "    'heads': 8,\n",
    "    'dim_head': 64\n",
    "}\n",
    "\n",
    "audio_transformer = AudioSpectrogramTransformer(**AUDIO_KWARGS)\n",
    "\n",
    "text_transformer = TextTransformer(**TEXT_KWARGS)\n",
    "\n",
    "mulan = MuLaN(audio_transformer, text_transformer)\n",
    "\n"
   ]
  }
 ],
 "metadata": {
  "kernelspec": {
   "display_name": "base",
   "language": "python",
   "name": "python3"
  },
  "language_info": {
   "codemirror_mode": {
    "name": "ipython",
    "version": 3
   },
   "file_extension": ".py",
   "mimetype": "text/x-python",
   "name": "python",
   "nbconvert_exporter": "python",
   "pygments_lexer": "ipython3",
   "version": "3.11.4"
  },
  "orig_nbformat": 4
 },
 "nbformat": 4,
 "nbformat_minor": 2
}
